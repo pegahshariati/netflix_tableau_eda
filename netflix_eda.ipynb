{
 "cells": [
  {
   "cell_type": "markdown",
   "metadata": {},
   "source": [
    "# Netflix Dataset EDA\n",
    "\n",
    "In this notebook, I will perform an exploratory data analysis on the Netflix dataset. The dataset contains information about the movies and TV shows available on Netflix.\n",
    "\n"
   ]
  },
  {
   "cell_type": "markdown",
   "metadata": {},
   "source": [
    "First, I install the essential libraries for loading the data into a pandas dataframe and performing the pre-processing steps. For the visualization, I use the matplotlib and seaborn libraries."
   ]
  },
  {
   "cell_type": "code",
   "execution_count": 1,
   "metadata": {},
   "outputs": [],
   "source": [
    "# importing essential libraries\n",
    "import pandas as pd\n",
    "import seaborn as sns\n",
    "import matplotlib.pyplot as plt"
   ]
  },
  {
   "cell_type": "markdown",
   "metadata": {},
   "source": [
    "The dataset is consisted of five sheets. I will load each sheet into a separate pandas dataframe and perform EDA on each sheet separately."
   ]
  },
  {
   "cell_type": "code",
   "execution_count": 2,
   "metadata": {},
   "outputs": [
    {
     "data": {
      "text/plain": [
       "['netflix_titles',\n",
       " 'netflix_titles_directors',\n",
       " 'netflix_titles_countries',\n",
       " 'netflix_titles_cast',\n",
       " 'netflix_titles_category']"
      ]
     },
     "execution_count": 2,
     "metadata": {},
     "output_type": "execute_result"
    }
   ],
   "source": [
    "# load the xlsx data to a pandas df\n",
    "xl = pd.ExcelFile('netflix_titles.xlsx')\n",
    "# print the name of the sheets\n",
    "xl.sheet_names"
   ]
  },
  {
   "cell_type": "markdown",
   "metadata": {},
   "source": [
    "since we are going to change the data, we will make a copy of the original data to keep the original data unchanged. we will save each corrected sheet in the new xsxl file with the same name of the original sheet."
   ]
  },
  {
   "cell_type": "code",
   "execution_count": 3,
   "metadata": {},
   "outputs": [
    {
     "data": {
      "text/plain": [
       "'netflix_titles_clean_2.xlsx'"
      ]
     },
     "execution_count": 3,
     "metadata": {},
     "output_type": "execute_result"
    }
   ],
   "source": [
    "# make a copy of the data with _clean suffix\n",
    "# TODO remove the_2 later\n",
    "import shutil\n",
    "shutil.copy('netflix_titles.xlsx', 'netflix_titles_clean_2.xlsx')"
   ]
  },
  {
   "cell_type": "markdown",
   "metadata": {},
   "source": [
    "# `netflix_titles` sheet\n",
    "\n",
    "## Data overview and initial inspection\n",
    "The first sheet which is now a pandas dataframe is `netflix_titles`. Similar to the most of the EDA pipelines, I will check the following:\n",
    "\n",
    "1. The first few rows of the dataframe to understand the structure of the data. (`df.head()`)\n",
    "2. The shape of the dataframe to understand the number of rows and columns. (`df.shape`)\n",
    "3. The data types of the columns to understand the data types of the columns. (`df.dtypes`)\n",
    "4. The missing values in the dataframe to understand the missing values in the dataframe. (`df.isnull().sum()`)"
   ]
  },
  {
   "cell_type": "code",
   "execution_count": 4,
   "metadata": {},
   "outputs": [
    {
     "data": {
      "text/html": [
       "<div>\n",
       "<style scoped>\n",
       "    .dataframe tbody tr th:only-of-type {\n",
       "        vertical-align: middle;\n",
       "    }\n",
       "\n",
       "    .dataframe tbody tr th {\n",
       "        vertical-align: top;\n",
       "    }\n",
       "\n",
       "    .dataframe thead th {\n",
       "        text-align: right;\n",
       "    }\n",
       "</style>\n",
       "<table border=\"1\" class=\"dataframe\">\n",
       "  <thead>\n",
       "    <tr style=\"text-align: right;\">\n",
       "      <th></th>\n",
       "      <th>duration_minutes</th>\n",
       "      <th>duration_seasons</th>\n",
       "      <th>type</th>\n",
       "      <th>title</th>\n",
       "      <th>date_added</th>\n",
       "      <th>release_year</th>\n",
       "      <th>rating</th>\n",
       "      <th>description</th>\n",
       "      <th>show_id</th>\n",
       "    </tr>\n",
       "  </thead>\n",
       "  <tbody>\n",
       "    <tr>\n",
       "      <th>0</th>\n",
       "      <td>90</td>\n",
       "      <td>NaN</td>\n",
       "      <td>Movie</td>\n",
       "      <td>Norm of the North: King Sized Adventure</td>\n",
       "      <td>2019-09-09 00:00:00</td>\n",
       "      <td>2019.0</td>\n",
       "      <td>TV-PG</td>\n",
       "      <td>Before planning an awesome wedding for his gra...</td>\n",
       "      <td>81145628.0</td>\n",
       "    </tr>\n",
       "    <tr>\n",
       "      <th>1</th>\n",
       "      <td>94</td>\n",
       "      <td>NaN</td>\n",
       "      <td>Movie</td>\n",
       "      <td>Jandino: Whatever it Takes</td>\n",
       "      <td>2016-09-09 00:00:00</td>\n",
       "      <td>2016.0</td>\n",
       "      <td>TV-MA</td>\n",
       "      <td>Jandino Asporaat riffs on the challenges of ra...</td>\n",
       "      <td>80117401.0</td>\n",
       "    </tr>\n",
       "    <tr>\n",
       "      <th>2</th>\n",
       "      <td>NaN</td>\n",
       "      <td>1</td>\n",
       "      <td>TV Show</td>\n",
       "      <td>Transformers Prime</td>\n",
       "      <td>2018-09-08 00:00:00</td>\n",
       "      <td>2013.0</td>\n",
       "      <td>TV-Y7-FV</td>\n",
       "      <td>With the help of three human allies, the Autob...</td>\n",
       "      <td>70234439.0</td>\n",
       "    </tr>\n",
       "    <tr>\n",
       "      <th>3</th>\n",
       "      <td>NaN</td>\n",
       "      <td>1</td>\n",
       "      <td>TV Show</td>\n",
       "      <td>Transformers: Robots in Disguise</td>\n",
       "      <td>2018-09-08 00:00:00</td>\n",
       "      <td>2016.0</td>\n",
       "      <td>TV-Y7</td>\n",
       "      <td>When a prison ship crash unleashes hundreds of...</td>\n",
       "      <td>80058654.0</td>\n",
       "    </tr>\n",
       "    <tr>\n",
       "      <th>4</th>\n",
       "      <td>99</td>\n",
       "      <td>NaN</td>\n",
       "      <td>Movie</td>\n",
       "      <td>#realityhigh</td>\n",
       "      <td>2017-09-08 00:00:00</td>\n",
       "      <td>2017.0</td>\n",
       "      <td>TV-14</td>\n",
       "      <td>When nerdy high schooler Dani finally attracts...</td>\n",
       "      <td>80125979.0</td>\n",
       "    </tr>\n",
       "  </tbody>\n",
       "</table>\n",
       "</div>"
      ],
      "text/plain": [
       "  duration_minutes duration_seasons     type  \\\n",
       "0               90              NaN    Movie   \n",
       "1               94              NaN    Movie   \n",
       "2              NaN                1  TV Show   \n",
       "3              NaN                1  TV Show   \n",
       "4               99              NaN    Movie   \n",
       "\n",
       "                                     title           date_added  release_year  \\\n",
       "0  Norm of the North: King Sized Adventure  2019-09-09 00:00:00        2019.0   \n",
       "1               Jandino: Whatever it Takes  2016-09-09 00:00:00        2016.0   \n",
       "2                       Transformers Prime  2018-09-08 00:00:00        2013.0   \n",
       "3         Transformers: Robots in Disguise  2018-09-08 00:00:00        2016.0   \n",
       "4                             #realityhigh  2017-09-08 00:00:00        2017.0   \n",
       "\n",
       "     rating                                        description     show_id  \n",
       "0     TV-PG  Before planning an awesome wedding for his gra...  81145628.0  \n",
       "1     TV-MA  Jandino Asporaat riffs on the challenges of ra...  80117401.0  \n",
       "2  TV-Y7-FV  With the help of three human allies, the Autob...  70234439.0  \n",
       "3     TV-Y7  When a prison ship crash unleashes hundreds of...  80058654.0  \n",
       "4     TV-14  When nerdy high schooler Dani finally attracts...  80125979.0  "
      ]
     },
     "execution_count": 4,
     "metadata": {},
     "output_type": "execute_result"
    }
   ],
   "source": [
    "# Load the data from the 'netflix_titles' sheet\n",
    "titles_df = pd.read_excel(xl, sheet_name='netflix_titles')\n",
    "\n",
    "# 1. Display the first 5 rows of the dataset\n",
    "titles_df.head()"
   ]
  },
  {
   "cell_type": "code",
   "execution_count": 5,
   "metadata": {},
   "outputs": [
    {
     "name": "stdout",
     "output_type": "stream",
     "text": [
      "Dataset has 6236 rows and 9 columns\n"
     ]
    }
   ],
   "source": [
    "# 2. display the shape of the dataset\n",
    "print(\"Dataset has {} rows and {} columns\".format(titles_df.shape[0], titles_df.shape[1]))"
   ]
  },
  {
   "cell_type": "code",
   "execution_count": 6,
   "metadata": {},
   "outputs": [
    {
     "data": {
      "text/plain": [
       "duration_minutes     object\n",
       "duration_seasons     object\n",
       "type                 object\n",
       "title                object\n",
       "date_added           object\n",
       "release_year        float64\n",
       "rating               object\n",
       "description          object\n",
       "show_id             float64\n",
       "dtype: object"
      ]
     },
     "execution_count": 6,
     "metadata": {},
     "output_type": "execute_result"
    }
   ],
   "source": [
    "# 3. display the data type of each column\n",
    "titles_df.dtypes"
   ]
  },
  {
   "cell_type": "markdown",
   "metadata": {},
   "source": [
    "We know that some of the columns need to be converted to the correct data types. The conversion map table is as follows:\n",
    "\n",
    "\n",
    "\n",
    "\n",
    "| Column Name | Correct Data Type |\n",
    "|-------------|-------------------|\n",
    "| `show_id` | `int` |\n",
    "| `duration_minutes` | `int` |\n",
    "| `duration_seasons` | `int` |\n",
    "| `type` | `category` |\n",
    "| `title` | `object` |\n",
    "| `date_added` | `datetime` |\n",
    "| `release_year` | `int` |\n",
    "| `rating` | `category` |\n",
    "| `description` | `object` |\n"
   ]
  },
  {
   "cell_type": "code",
   "execution_count": 7,
   "metadata": {},
   "outputs": [
    {
     "data": {
      "text/plain": [
       "duration_minutes    1969\n",
       "duration_seasons    4265\n",
       "type                   1\n",
       "title                  1\n",
       "date_added            13\n",
       "release_year           2\n",
       "rating                13\n",
       "description            3\n",
       "show_id                4\n",
       "dtype: int64"
      ]
     },
     "execution_count": 7,
     "metadata": {},
     "output_type": "execute_result"
    }
   ],
   "source": [
    "# 4. display the number of missing values in each column\n",
    "sns.heatmap(titles_df.isnull(), cbar=False)\n",
    "titles_df.isnull().sum()"
   ]
  },
  {
   "cell_type": "markdown",
   "metadata": {},
   "source": [
    "It makes sense to have missing values in `duration_minutes` or `duration_seconds` columns as these two columns are describing **movie** vs **tv show** duration.\n",
    "\n",
    "But it doesn't make sense to have missing values in `show_id` column as it is the unique identifier for each show. I will remove these rows from the dataframe for consistency. But first, I will check these rows.\n",
    "\n",
    "**Note:** report to data engineering team"
   ]
  },
  {
   "cell_type": "code",
   "execution_count": 8,
   "metadata": {},
   "outputs": [
    {
     "data": {
      "text/html": [
       "<div>\n",
       "<style scoped>\n",
       "    .dataframe tbody tr th:only-of-type {\n",
       "        vertical-align: middle;\n",
       "    }\n",
       "\n",
       "    .dataframe tbody tr th {\n",
       "        vertical-align: top;\n",
       "    }\n",
       "\n",
       "    .dataframe thead th {\n",
       "        text-align: right;\n",
       "    }\n",
       "</style>\n",
       "<table border=\"1\" class=\"dataframe\">\n",
       "  <thead>\n",
       "    <tr style=\"text-align: right;\">\n",
       "      <th></th>\n",
       "      <th>duration_minutes</th>\n",
       "      <th>duration_seasons</th>\n",
       "      <th>type</th>\n",
       "      <th>title</th>\n",
       "      <th>date_added</th>\n",
       "      <th>release_year</th>\n",
       "      <th>rating</th>\n",
       "      <th>description</th>\n",
       "      <th>show_id</th>\n",
       "    </tr>\n",
       "  </thead>\n",
       "  <tbody>\n",
       "    <tr>\n",
       "      <th>2017</th>\n",
       "      <td>40</td>\n",
       "      <td>NaN</td>\n",
       "      <td>Movie</td>\n",
       "      <td>The Memphis Belle: A Story of a</td>\n",
       "      <td>NaN</td>\n",
       "      <td>NaN</td>\n",
       "      <td>NaN</td>\n",
       "      <td>NaN</td>\n",
       "      <td>NaN</td>\n",
       "    </tr>\n",
       "    <tr>\n",
       "      <th>2018</th>\n",
       "      <td>Flying Fortress\"</td>\n",
       "      <td>2017-03-31 00:00:00</td>\n",
       "      <td>1944</td>\n",
       "      <td>TV-PG</td>\n",
       "      <td>This documentary centers on the crew of the B-...</td>\n",
       "      <td>80119194.0</td>\n",
       "      <td>NaN</td>\n",
       "      <td>NaN</td>\n",
       "      <td>NaN</td>\n",
       "    </tr>\n",
       "    <tr>\n",
       "      <th>4524</th>\n",
       "      <td>87</td>\n",
       "      <td>NaN</td>\n",
       "      <td>Movie</td>\n",
       "      <td>The Bad Education Movie</td>\n",
       "      <td>2018-12-15 00:00:00</td>\n",
       "      <td>2015.0</td>\n",
       "      <td>TV-MA</td>\n",
       "      <td>Britain's most ineffective but caring teacher ...</td>\n",
       "      <td>NaN</td>\n",
       "    </tr>\n",
       "    <tr>\n",
       "      <th>4525</th>\n",
       "      <td>and probably will.\"</td>\n",
       "      <td>80188902</td>\n",
       "      <td>NaN</td>\n",
       "      <td>NaN</td>\n",
       "      <td>NaN</td>\n",
       "      <td>NaN</td>\n",
       "      <td>NaN</td>\n",
       "      <td>NaN</td>\n",
       "      <td>NaN</td>\n",
       "    </tr>\n",
       "  </tbody>\n",
       "</table>\n",
       "</div>"
      ],
      "text/plain": [
       "          duration_minutes     duration_seasons   type  \\\n",
       "2017                    40                  NaN  Movie   \n",
       "2018      Flying Fortress\"  2017-03-31 00:00:00   1944   \n",
       "4524                    87                  NaN  Movie   \n",
       "4525   and probably will.\"             80188902    NaN   \n",
       "\n",
       "                                title  \\\n",
       "2017  The Memphis Belle: A Story of a   \n",
       "2018                            TV-PG   \n",
       "4524          The Bad Education Movie   \n",
       "4525                              NaN   \n",
       "\n",
       "                                             date_added  release_year rating  \\\n",
       "2017                                                NaN           NaN    NaN   \n",
       "2018  This documentary centers on the crew of the B-...    80119194.0    NaN   \n",
       "4524                                2018-12-15 00:00:00        2015.0  TV-MA   \n",
       "4525                                                NaN           NaN    NaN   \n",
       "\n",
       "                                            description  show_id  \n",
       "2017                                                NaN      NaN  \n",
       "2018                                                NaN      NaN  \n",
       "4524  Britain's most ineffective but caring teacher ...      NaN  \n",
       "4525                                                NaN      NaN  "
      ]
     },
     "execution_count": 8,
     "metadata": {},
     "output_type": "execute_result"
    }
   ],
   "source": [
    "# show rows with missing values in the show_id column\n",
    "titles_df[titles_df['show_id'].isnull()]"
   ]
  },
  {
   "cell_type": "markdown",
   "metadata": {},
   "source": [
    "Looks like there has been a mistake in putting the data into the correct fields. I will remove the rows with this issue for consistency. But we need to report this issue to the data engineering team to add extra validation checks to the data pipeline."
   ]
  },
  {
   "cell_type": "markdown",
   "metadata": {},
   "source": [
    "We will also check if there are any duplicate rows in the dataframe. (`df.duplicated(keep=False)`) If there are any duplicate rows, we will remove them.\n",
    "\n",
    "Similar to the previous step, I will remove the duplicate rows for consistency. But we need to report this issue to the data engineering team to add extra validation checks to the data pipeline."
   ]
  },
  {
   "cell_type": "code",
   "execution_count": 9,
   "metadata": {},
   "outputs": [
    {
     "data": {
      "text/html": [
       "<div>\n",
       "<style scoped>\n",
       "    .dataframe tbody tr th:only-of-type {\n",
       "        vertical-align: middle;\n",
       "    }\n",
       "\n",
       "    .dataframe tbody tr th {\n",
       "        vertical-align: top;\n",
       "    }\n",
       "\n",
       "    .dataframe thead th {\n",
       "        text-align: right;\n",
       "    }\n",
       "</style>\n",
       "<table border=\"1\" class=\"dataframe\">\n",
       "  <thead>\n",
       "    <tr style=\"text-align: right;\">\n",
       "      <th></th>\n",
       "      <th>duration_minutes</th>\n",
       "      <th>duration_seasons</th>\n",
       "      <th>type</th>\n",
       "      <th>title</th>\n",
       "      <th>date_added</th>\n",
       "      <th>release_year</th>\n",
       "      <th>rating</th>\n",
       "      <th>description</th>\n",
       "    </tr>\n",
       "    <tr>\n",
       "      <th>show_id</th>\n",
       "      <th></th>\n",
       "      <th></th>\n",
       "      <th></th>\n",
       "      <th></th>\n",
       "      <th></th>\n",
       "      <th></th>\n",
       "      <th></th>\n",
       "      <th></th>\n",
       "    </tr>\n",
       "  </thead>\n",
       "  <tbody>\n",
       "    <tr>\n",
       "      <th>81075235.0</th>\n",
       "      <td>162</td>\n",
       "      <td>NaN</td>\n",
       "      <td>Movie</td>\n",
       "      <td>Sarkar</td>\n",
       "      <td>2019-03-02 00:00:00</td>\n",
       "      <td>2018.0</td>\n",
       "      <td>TV-MA</td>\n",
       "      <td>A ruthless businessman’s mission to expose ele...</td>\n",
       "    </tr>\n",
       "    <tr>\n",
       "      <th>81072516.0</th>\n",
       "      <td>162</td>\n",
       "      <td>NaN</td>\n",
       "      <td>Movie</td>\n",
       "      <td>Sarkar</td>\n",
       "      <td>2019-03-02 00:00:00</td>\n",
       "      <td>2018.0</td>\n",
       "      <td>TV-MA</td>\n",
       "      <td>A ruthless businessman’s mission to expose ele...</td>\n",
       "    </tr>\n",
       "  </tbody>\n",
       "</table>\n",
       "</div>"
      ],
      "text/plain": [
       "           duration_minutes duration_seasons   type   title  \\\n",
       "show_id                                                       \n",
       "81075235.0              162              NaN  Movie  Sarkar   \n",
       "81072516.0              162              NaN  Movie  Sarkar   \n",
       "\n",
       "                     date_added  release_year rating  \\\n",
       "show_id                                                \n",
       "81075235.0  2019-03-02 00:00:00        2018.0  TV-MA   \n",
       "81072516.0  2019-03-02 00:00:00        2018.0  TV-MA   \n",
       "\n",
       "                                                  description  \n",
       "show_id                                                        \n",
       "81075235.0  A ruthless businessman’s mission to expose ele...  \n",
       "81072516.0  A ruthless businessman’s mission to expose ele...  "
      ]
     },
     "execution_count": 9,
     "metadata": {},
     "output_type": "execute_result"
    }
   ],
   "source": [
    "# show duplicated rows\n",
    "# in order to see the duplicated rows, we need to first set the 'show_id' column as the index and then use the duplicated() method\n",
    "# since we will set the `show_id` as index in the next section, we will create a temporary variable for `titles_df` to avoid overwriting the original dataset\n",
    "temp_titles_df = titles_df.copy()\n",
    "temp_titles_df.set_index('show_id', inplace=True)\n",
    "temp_titles_df[temp_titles_df.duplicated(keep=False)]"
   ]
  },
  {
   "cell_type": "markdown",
   "metadata": {},
   "source": [
    "## Data cleaning and preprocessing\n",
    "After the initial inspection, I will perform the following data cleaning and preprocessing steps:\n",
    "\n",
    "1. set the `show_id` column as the index of the dataframe.\n",
    "2. remove the duplicate rows from the dataframe.\n",
    "3. remove the rows with missing values in the `show_id` column.\n",
    "4. Convert the columns to the correct data types."
   ]
  },
  {
   "cell_type": "code",
   "execution_count": 10,
   "metadata": {},
   "outputs": [
    {
     "data": {
      "text/html": [
       "<div>\n",
       "<style scoped>\n",
       "    .dataframe tbody tr th:only-of-type {\n",
       "        vertical-align: middle;\n",
       "    }\n",
       "\n",
       "    .dataframe tbody tr th {\n",
       "        vertical-align: top;\n",
       "    }\n",
       "\n",
       "    .dataframe thead th {\n",
       "        text-align: right;\n",
       "    }\n",
       "</style>\n",
       "<table border=\"1\" class=\"dataframe\">\n",
       "  <thead>\n",
       "    <tr style=\"text-align: right;\">\n",
       "      <th></th>\n",
       "      <th>duration_minutes</th>\n",
       "      <th>duration_seasons</th>\n",
       "      <th>type</th>\n",
       "      <th>title</th>\n",
       "      <th>date_added</th>\n",
       "      <th>release_year</th>\n",
       "      <th>rating</th>\n",
       "      <th>description</th>\n",
       "    </tr>\n",
       "    <tr>\n",
       "      <th>show_id</th>\n",
       "      <th></th>\n",
       "      <th></th>\n",
       "      <th></th>\n",
       "      <th></th>\n",
       "      <th></th>\n",
       "      <th></th>\n",
       "      <th></th>\n",
       "      <th></th>\n",
       "    </tr>\n",
       "  </thead>\n",
       "  <tbody>\n",
       "    <tr>\n",
       "      <th>81145628.0</th>\n",
       "      <td>90</td>\n",
       "      <td>NaN</td>\n",
       "      <td>Movie</td>\n",
       "      <td>Norm of the North: King Sized Adventure</td>\n",
       "      <td>2019-09-09 00:00:00</td>\n",
       "      <td>2019.0</td>\n",
       "      <td>TV-PG</td>\n",
       "      <td>Before planning an awesome wedding for his gra...</td>\n",
       "    </tr>\n",
       "    <tr>\n",
       "      <th>80117401.0</th>\n",
       "      <td>94</td>\n",
       "      <td>NaN</td>\n",
       "      <td>Movie</td>\n",
       "      <td>Jandino: Whatever it Takes</td>\n",
       "      <td>2016-09-09 00:00:00</td>\n",
       "      <td>2016.0</td>\n",
       "      <td>TV-MA</td>\n",
       "      <td>Jandino Asporaat riffs on the challenges of ra...</td>\n",
       "    </tr>\n",
       "    <tr>\n",
       "      <th>70234439.0</th>\n",
       "      <td>NaN</td>\n",
       "      <td>1</td>\n",
       "      <td>TV Show</td>\n",
       "      <td>Transformers Prime</td>\n",
       "      <td>2018-09-08 00:00:00</td>\n",
       "      <td>2013.0</td>\n",
       "      <td>TV-Y7-FV</td>\n",
       "      <td>With the help of three human allies, the Autob...</td>\n",
       "    </tr>\n",
       "    <tr>\n",
       "      <th>80058654.0</th>\n",
       "      <td>NaN</td>\n",
       "      <td>1</td>\n",
       "      <td>TV Show</td>\n",
       "      <td>Transformers: Robots in Disguise</td>\n",
       "      <td>2018-09-08 00:00:00</td>\n",
       "      <td>2016.0</td>\n",
       "      <td>TV-Y7</td>\n",
       "      <td>When a prison ship crash unleashes hundreds of...</td>\n",
       "    </tr>\n",
       "    <tr>\n",
       "      <th>80125979.0</th>\n",
       "      <td>99</td>\n",
       "      <td>NaN</td>\n",
       "      <td>Movie</td>\n",
       "      <td>#realityhigh</td>\n",
       "      <td>2017-09-08 00:00:00</td>\n",
       "      <td>2017.0</td>\n",
       "      <td>TV-14</td>\n",
       "      <td>When nerdy high schooler Dani finally attracts...</td>\n",
       "    </tr>\n",
       "  </tbody>\n",
       "</table>\n",
       "</div>"
      ],
      "text/plain": [
       "           duration_minutes duration_seasons     type  \\\n",
       "show_id                                                 \n",
       "81145628.0               90              NaN    Movie   \n",
       "80117401.0               94              NaN    Movie   \n",
       "70234439.0              NaN                1  TV Show   \n",
       "80058654.0              NaN                1  TV Show   \n",
       "80125979.0               99              NaN    Movie   \n",
       "\n",
       "                                              title           date_added  \\\n",
       "show_id                                                                    \n",
       "81145628.0  Norm of the North: King Sized Adventure  2019-09-09 00:00:00   \n",
       "80117401.0               Jandino: Whatever it Takes  2016-09-09 00:00:00   \n",
       "70234439.0                       Transformers Prime  2018-09-08 00:00:00   \n",
       "80058654.0         Transformers: Robots in Disguise  2018-09-08 00:00:00   \n",
       "80125979.0                             #realityhigh  2017-09-08 00:00:00   \n",
       "\n",
       "            release_year    rating  \\\n",
       "show_id                              \n",
       "81145628.0        2019.0     TV-PG   \n",
       "80117401.0        2016.0     TV-MA   \n",
       "70234439.0        2013.0  TV-Y7-FV   \n",
       "80058654.0        2016.0     TV-Y7   \n",
       "80125979.0        2017.0     TV-14   \n",
       "\n",
       "                                                  description  \n",
       "show_id                                                        \n",
       "81145628.0  Before planning an awesome wedding for his gra...  \n",
       "80117401.0  Jandino Asporaat riffs on the challenges of ra...  \n",
       "70234439.0  With the help of three human allies, the Autob...  \n",
       "80058654.0  When a prison ship crash unleashes hundreds of...  \n",
       "80125979.0  When nerdy high schooler Dani finally attracts...  "
      ]
     },
     "execution_count": 10,
     "metadata": {},
     "output_type": "execute_result"
    }
   ],
   "source": [
    "# 1. set the show_id as the index\n",
    "titles_df.set_index('show_id', inplace=True)\n",
    "titles_df.head()"
   ]
  },
  {
   "cell_type": "code",
   "execution_count": 11,
   "metadata": {},
   "outputs": [],
   "source": [
    "# 2. remove the duplicated rows\n",
    "titles_df.drop_duplicates(inplace=True)"
   ]
  },
  {
   "cell_type": "code",
   "execution_count": 12,
   "metadata": {},
   "outputs": [],
   "source": [
    "# 3. remove the rows with missing values in the show_id column\n",
    "# i.e., remove the rows with missing values in the index column\n",
    "titles_df = titles_df[~titles_df.index.isnull()]"
   ]
  },
  {
   "cell_type": "code",
   "execution_count": 13,
   "metadata": {},
   "outputs": [
    {
     "data": {
      "text/plain": [
       "duration_minutes             Int64\n",
       "duration_seasons             Int64\n",
       "type                      category\n",
       "title                       object\n",
       "date_added          datetime64[ns]\n",
       "release_year                 Int64\n",
       "rating                    category\n",
       "description         string[python]\n",
       "dtype: object"
      ]
     },
     "execution_count": 13,
     "metadata": {},
     "output_type": "execute_result"
    }
   ],
   "source": [
    "# 4. convert the data type of the columns to the appropriate data type\n",
    "titles_df['duration_minutes'] = titles_df['duration_minutes'].astype(pd.Int64Dtype())\n",
    "titles_df['duration_seasons'] = titles_df['duration_seasons'].astype(pd.Int64Dtype())\n",
    "titles_df['type'] = titles_df['type'].astype(pd.CategoricalDtype())\n",
    "titles_df['date_added'] = pd.to_datetime(titles_df['date_added'])\n",
    "titles_df['release_year'] = titles_df['release_year'].astype(pd.Int64Dtype())\n",
    "titles_df['rating'] = titles_df['rating'].astype(pd.CategoricalDtype())\n",
    "titles_df['description'] = titles_df['description'].astype(pd.StringDtype())\n",
    "\n",
    "# display the data type of each column\n",
    "titles_df.dtypes"
   ]
  },
  {
   "cell_type": "markdown",
   "metadata": {},
   "source": [
    "Once the data cleaning and preprocessing steps are completed, we can see the updated data types of the columns, the shape of the dataframe, and the missing values in the dataframe."
   ]
  },
  {
   "cell_type": "code",
   "execution_count": 15,
   "metadata": {},
   "outputs": [
    {
     "name": "stdout",
     "output_type": "stream",
     "text": [
      "<class 'pandas.core.frame.DataFrame'>\n",
      "Index: 6231 entries, 81145628.0 to 70153404.0\n",
      "Data columns (total 8 columns):\n",
      " #   Column            Non-Null Count  Dtype         \n",
      "---  ------            --------------  -----         \n",
      " 0   duration_minutes  4262 non-null   Int64         \n",
      " 1   duration_seasons  1969 non-null   Int64         \n",
      " 2   type              6231 non-null   category      \n",
      " 3   title             6231 non-null   object        \n",
      " 4   date_added        6220 non-null   datetime64[ns]\n",
      " 5   release_year      6231 non-null   Int64         \n",
      " 6   rating            6221 non-null   category      \n",
      " 7   description       6231 non-null   string        \n",
      "dtypes: Int64(3), category(2), datetime64[ns](1), object(1), string(1)\n",
      "memory usage: 372.0+ KB\n"
     ]
    }
   ],
   "source": [
    "titles_df.info()"
   ]
  }
 ],
 "metadata": {
  "kernelspec": {
   "display_name": "base",
   "language": "python",
   "name": "python3"
  },
  "language_info": {
   "codemirror_mode": {
    "name": "ipython",
    "version": 3
   },
   "file_extension": ".py",
   "mimetype": "text/x-python",
   "name": "python",
   "nbconvert_exporter": "python",
   "pygments_lexer": "ipython3",
   "version": "3.12.4"
  }
 },
 "nbformat": 4,
 "nbformat_minor": 2
}
